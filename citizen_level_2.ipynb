{
 "cells": [
  {
   "cell_type": "code",
   "execution_count": 1,
   "metadata": {},
   "outputs": [],
   "source": [
    "import model\n",
    "import numpy as np\n",
    "import pandas as pd"
   ]
  },
  {
   "cell_type": "code",
   "execution_count": 2,
   "metadata": {},
   "outputs": [],
   "source": [
    "file=pd.read_csv('income_level_train.csv')"
   ]
  },
  {
   "cell_type": "code",
   "execution_count": 3,
   "metadata": {},
   "outputs": [
    {
     "data": {
      "text/html": [
       "<div>\n",
       "<style scoped>\n",
       "    .dataframe tbody tr th:only-of-type {\n",
       "        vertical-align: middle;\n",
       "    }\n",
       "\n",
       "    .dataframe tbody tr th {\n",
       "        vertical-align: top;\n",
       "    }\n",
       "\n",
       "    .dataframe thead th {\n",
       "        text-align: right;\n",
       "    }\n",
       "</style>\n",
       "<table border=\"1\" class=\"dataframe\">\n",
       "  <thead>\n",
       "    <tr style=\"text-align: right;\">\n",
       "      <th></th>\n",
       "      <th>age</th>\n",
       "      <th>class_of_worker</th>\n",
       "      <th>industry_code</th>\n",
       "      <th>occupation_code</th>\n",
       "      <th>education</th>\n",
       "      <th>wage_per_hour</th>\n",
       "      <th>enrolled_in_edu_inst_lastwk</th>\n",
       "      <th>marital_status</th>\n",
       "      <th>major_industry_code</th>\n",
       "      <th>major_occupation_code</th>\n",
       "      <th>...</th>\n",
       "      <th>country_father</th>\n",
       "      <th>country_mother</th>\n",
       "      <th>country_self</th>\n",
       "      <th>citizenship</th>\n",
       "      <th>business_or_self_employed</th>\n",
       "      <th>fill_questionnaire_veteran_admin</th>\n",
       "      <th>veterans_benefits</th>\n",
       "      <th>weeks_worked_in_year</th>\n",
       "      <th>year</th>\n",
       "      <th>income_level</th>\n",
       "    </tr>\n",
       "  </thead>\n",
       "  <tbody>\n",
       "    <tr>\n",
       "      <th>0</th>\n",
       "      <td>73</td>\n",
       "      <td>Not in universe</td>\n",
       "      <td>0</td>\n",
       "      <td>0</td>\n",
       "      <td>High school graduate</td>\n",
       "      <td>0</td>\n",
       "      <td>Not in universe</td>\n",
       "      <td>Widowed</td>\n",
       "      <td>Not in universe or children</td>\n",
       "      <td>Not in universe</td>\n",
       "      <td>...</td>\n",
       "      <td>United-States</td>\n",
       "      <td>United-States</td>\n",
       "      <td>United-States</td>\n",
       "      <td>Native- Born in the United States</td>\n",
       "      <td>0</td>\n",
       "      <td>Not in universe</td>\n",
       "      <td>2</td>\n",
       "      <td>0</td>\n",
       "      <td>95</td>\n",
       "      <td>-50000</td>\n",
       "    </tr>\n",
       "    <tr>\n",
       "      <th>1</th>\n",
       "      <td>58</td>\n",
       "      <td>Self-employed-not incorporated</td>\n",
       "      <td>4</td>\n",
       "      <td>34</td>\n",
       "      <td>Some college but no degree</td>\n",
       "      <td>0</td>\n",
       "      <td>Not in universe</td>\n",
       "      <td>Divorced</td>\n",
       "      <td>Construction</td>\n",
       "      <td>Precision production craft &amp; repair</td>\n",
       "      <td>...</td>\n",
       "      <td>United-States</td>\n",
       "      <td>United-States</td>\n",
       "      <td>United-States</td>\n",
       "      <td>Native- Born in the United States</td>\n",
       "      <td>0</td>\n",
       "      <td>Not in universe</td>\n",
       "      <td>2</td>\n",
       "      <td>52</td>\n",
       "      <td>94</td>\n",
       "      <td>-50000</td>\n",
       "    </tr>\n",
       "    <tr>\n",
       "      <th>2</th>\n",
       "      <td>18</td>\n",
       "      <td>Not in universe</td>\n",
       "      <td>0</td>\n",
       "      <td>0</td>\n",
       "      <td>10th grade</td>\n",
       "      <td>0</td>\n",
       "      <td>High school</td>\n",
       "      <td>Never married</td>\n",
       "      <td>Not in universe or children</td>\n",
       "      <td>Not in universe</td>\n",
       "      <td>...</td>\n",
       "      <td>Vietnam</td>\n",
       "      <td>Vietnam</td>\n",
       "      <td>Vietnam</td>\n",
       "      <td>Foreign born- Not a citizen of U S</td>\n",
       "      <td>0</td>\n",
       "      <td>Not in universe</td>\n",
       "      <td>2</td>\n",
       "      <td>0</td>\n",
       "      <td>95</td>\n",
       "      <td>-50000</td>\n",
       "    </tr>\n",
       "    <tr>\n",
       "      <th>3</th>\n",
       "      <td>9</td>\n",
       "      <td>Not in universe</td>\n",
       "      <td>0</td>\n",
       "      <td>0</td>\n",
       "      <td>Children</td>\n",
       "      <td>0</td>\n",
       "      <td>Not in universe</td>\n",
       "      <td>Never married</td>\n",
       "      <td>Not in universe or children</td>\n",
       "      <td>Not in universe</td>\n",
       "      <td>...</td>\n",
       "      <td>United-States</td>\n",
       "      <td>United-States</td>\n",
       "      <td>United-States</td>\n",
       "      <td>Native- Born in the United States</td>\n",
       "      <td>0</td>\n",
       "      <td>Not in universe</td>\n",
       "      <td>0</td>\n",
       "      <td>0</td>\n",
       "      <td>94</td>\n",
       "      <td>-50000</td>\n",
       "    </tr>\n",
       "    <tr>\n",
       "      <th>4</th>\n",
       "      <td>10</td>\n",
       "      <td>Not in universe</td>\n",
       "      <td>0</td>\n",
       "      <td>0</td>\n",
       "      <td>Children</td>\n",
       "      <td>0</td>\n",
       "      <td>Not in universe</td>\n",
       "      <td>Never married</td>\n",
       "      <td>Not in universe or children</td>\n",
       "      <td>Not in universe</td>\n",
       "      <td>...</td>\n",
       "      <td>United-States</td>\n",
       "      <td>United-States</td>\n",
       "      <td>United-States</td>\n",
       "      <td>Native- Born in the United States</td>\n",
       "      <td>0</td>\n",
       "      <td>Not in universe</td>\n",
       "      <td>0</td>\n",
       "      <td>0</td>\n",
       "      <td>94</td>\n",
       "      <td>-50000</td>\n",
       "    </tr>\n",
       "  </tbody>\n",
       "</table>\n",
       "<p>5 rows × 41 columns</p>\n",
       "</div>"
      ],
      "text/plain": [
       "   age                 class_of_worker  industry_code  occupation_code  \\\n",
       "0   73                 Not in universe              0                0   \n",
       "1   58  Self-employed-not incorporated              4               34   \n",
       "2   18                 Not in universe              0                0   \n",
       "3    9                 Not in universe              0                0   \n",
       "4   10                 Not in universe              0                0   \n",
       "\n",
       "                    education  wage_per_hour enrolled_in_edu_inst_lastwk  \\\n",
       "0        High school graduate              0             Not in universe   \n",
       "1  Some college but no degree              0             Not in universe   \n",
       "2                  10th grade              0                 High school   \n",
       "3                    Children              0             Not in universe   \n",
       "4                    Children              0             Not in universe   \n",
       "\n",
       "  marital_status          major_industry_code  \\\n",
       "0        Widowed  Not in universe or children   \n",
       "1       Divorced                 Construction   \n",
       "2  Never married  Not in universe or children   \n",
       "3  Never married  Not in universe or children   \n",
       "4  Never married  Not in universe or children   \n",
       "\n",
       "                 major_occupation_code  ... country_father country_mother  \\\n",
       "0                      Not in universe  ...  United-States  United-States   \n",
       "1  Precision production craft & repair  ...  United-States  United-States   \n",
       "2                      Not in universe  ...        Vietnam        Vietnam   \n",
       "3                      Not in universe  ...  United-States  United-States   \n",
       "4                      Not in universe  ...  United-States  United-States   \n",
       "\n",
       "    country_self                         citizenship  \\\n",
       "0  United-States   Native- Born in the United States   \n",
       "1  United-States   Native- Born in the United States   \n",
       "2        Vietnam  Foreign born- Not a citizen of U S   \n",
       "3  United-States   Native- Born in the United States   \n",
       "4  United-States   Native- Born in the United States   \n",
       "\n",
       "  business_or_self_employed fill_questionnaire_veteran_admin  \\\n",
       "0                         0                  Not in universe   \n",
       "1                         0                  Not in universe   \n",
       "2                         0                  Not in universe   \n",
       "3                         0                  Not in universe   \n",
       "4                         0                  Not in universe   \n",
       "\n",
       "   veterans_benefits  weeks_worked_in_year  year income_level  \n",
       "0                  2                     0    95       -50000  \n",
       "1                  2                    52    94       -50000  \n",
       "2                  2                     0    95       -50000  \n",
       "3                  0                     0    94       -50000  \n",
       "4                  0                     0    94       -50000  \n",
       "\n",
       "[5 rows x 41 columns]"
      ]
     },
     "execution_count": 3,
     "metadata": {},
     "output_type": "execute_result"
    }
   ],
   "source": [
    "file.head()"
   ]
  },
  {
   "cell_type": "code",
   "execution_count": 4,
   "metadata": {},
   "outputs": [
    {
     "data": {
      "text/plain": [
       "{'hispanic_origin': 874,\n",
       " 'state_of_previous_residence': 708,\n",
       " 'migration_msa': 99696,\n",
       " 'migration_reg': 99696,\n",
       " 'migration_within_reg': 99696,\n",
       " 'migration_sunbelt': 99696,\n",
       " 'country_father': 6713,\n",
       " 'country_mother': 6119,\n",
       " 'country_self': 3393}"
      ]
     },
     "execution_count": 4,
     "metadata": {},
     "output_type": "execute_result"
    }
   ],
   "source": [
    "null_lis=model.chknull(file)\n",
    "null_lis"
   ]
  },
  {
   "cell_type": "code",
   "execution_count": 5,
   "metadata": {},
   "outputs": [
    {
     "data": {
      "text/plain": [
       "['class_of_worker',\n",
       " 'education',\n",
       " 'enrolled_in_edu_inst_lastwk',\n",
       " 'marital_status',\n",
       " 'major_industry_code',\n",
       " 'major_occupation_code',\n",
       " 'race',\n",
       " 'hispanic_origin',\n",
       " 'sex',\n",
       " 'member_of_labor_union',\n",
       " 'reason_for_unemployment',\n",
       " 'full_parttime_employment_stat',\n",
       " 'tax_filer_status',\n",
       " 'region_of_previous_residence',\n",
       " 'state_of_previous_residence',\n",
       " 'd_household_family_stat',\n",
       " 'd_household_summary',\n",
       " 'migration_msa',\n",
       " 'migration_reg',\n",
       " 'migration_within_reg',\n",
       " 'live_1_year_ago',\n",
       " 'migration_sunbelt',\n",
       " 'family_members_under_18',\n",
       " 'country_father',\n",
       " 'country_mother',\n",
       " 'country_self',\n",
       " 'citizenship',\n",
       " 'fill_questionnaire_veteran_admin']"
      ]
     },
     "execution_count": 5,
     "metadata": {},
     "output_type": "execute_result"
    }
   ],
   "source": [
    "str_lis=model.chktyp(file)\n",
    "str_lis=list(str_lis)\n",
    "str_lis"
   ]
  },
  {
   "cell_type": "code",
   "execution_count": 6,
   "metadata": {},
   "outputs": [],
   "source": [
    "#convert all string values \n",
    "file=model.convert_string(str_lis,file)"
   ]
  },
  {
   "cell_type": "code",
   "execution_count": 7,
   "metadata": {},
   "outputs": [],
   "source": [
    "#fill al nan values by mean method \n",
    "file=model.fill_na(file)"
   ]
  },
  {
   "cell_type": "code",
   "execution_count": 8,
   "metadata": {},
   "outputs": [
    {
     "data": {
      "text/html": [
       "<div>\n",
       "<style scoped>\n",
       "    .dataframe tbody tr th:only-of-type {\n",
       "        vertical-align: middle;\n",
       "    }\n",
       "\n",
       "    .dataframe tbody tr th {\n",
       "        vertical-align: top;\n",
       "    }\n",
       "\n",
       "    .dataframe thead th {\n",
       "        text-align: right;\n",
       "    }\n",
       "</style>\n",
       "<table border=\"1\" class=\"dataframe\">\n",
       "  <thead>\n",
       "    <tr style=\"text-align: right;\">\n",
       "      <th></th>\n",
       "      <th>age</th>\n",
       "      <th>class_of_worker</th>\n",
       "      <th>industry_code</th>\n",
       "      <th>occupation_code</th>\n",
       "      <th>education</th>\n",
       "      <th>wage_per_hour</th>\n",
       "      <th>enrolled_in_edu_inst_lastwk</th>\n",
       "      <th>marital_status</th>\n",
       "      <th>major_industry_code</th>\n",
       "      <th>major_occupation_code</th>\n",
       "      <th>...</th>\n",
       "      <th>country_father</th>\n",
       "      <th>country_mother</th>\n",
       "      <th>country_self</th>\n",
       "      <th>citizenship</th>\n",
       "      <th>business_or_self_employed</th>\n",
       "      <th>fill_questionnaire_veteran_admin</th>\n",
       "      <th>veterans_benefits</th>\n",
       "      <th>weeks_worked_in_year</th>\n",
       "      <th>year</th>\n",
       "      <th>income_level</th>\n",
       "    </tr>\n",
       "  </thead>\n",
       "  <tbody>\n",
       "    <tr>\n",
       "      <th>0</th>\n",
       "      <td>73</td>\n",
       "      <td>1.0</td>\n",
       "      <td>0</td>\n",
       "      <td>0</td>\n",
       "      <td>1.0</td>\n",
       "      <td>0</td>\n",
       "      <td>1.0</td>\n",
       "      <td>1.0</td>\n",
       "      <td>1.0</td>\n",
       "      <td>1.0</td>\n",
       "      <td>...</td>\n",
       "      <td>1.0</td>\n",
       "      <td>1.0</td>\n",
       "      <td>1.0</td>\n",
       "      <td>1.0</td>\n",
       "      <td>0</td>\n",
       "      <td>1.0</td>\n",
       "      <td>2</td>\n",
       "      <td>0</td>\n",
       "      <td>95</td>\n",
       "      <td>-50000</td>\n",
       "    </tr>\n",
       "    <tr>\n",
       "      <th>1</th>\n",
       "      <td>58</td>\n",
       "      <td>1.0</td>\n",
       "      <td>4</td>\n",
       "      <td>34</td>\n",
       "      <td>1.0</td>\n",
       "      <td>0</td>\n",
       "      <td>1.0</td>\n",
       "      <td>1.0</td>\n",
       "      <td>1.0</td>\n",
       "      <td>1.0</td>\n",
       "      <td>...</td>\n",
       "      <td>1.0</td>\n",
       "      <td>1.0</td>\n",
       "      <td>1.0</td>\n",
       "      <td>1.0</td>\n",
       "      <td>0</td>\n",
       "      <td>1.0</td>\n",
       "      <td>2</td>\n",
       "      <td>52</td>\n",
       "      <td>94</td>\n",
       "      <td>-50000</td>\n",
       "    </tr>\n",
       "    <tr>\n",
       "      <th>2</th>\n",
       "      <td>18</td>\n",
       "      <td>1.0</td>\n",
       "      <td>0</td>\n",
       "      <td>0</td>\n",
       "      <td>1.0</td>\n",
       "      <td>0</td>\n",
       "      <td>1.0</td>\n",
       "      <td>1.0</td>\n",
       "      <td>1.0</td>\n",
       "      <td>1.0</td>\n",
       "      <td>...</td>\n",
       "      <td>1.0</td>\n",
       "      <td>1.0</td>\n",
       "      <td>1.0</td>\n",
       "      <td>1.0</td>\n",
       "      <td>0</td>\n",
       "      <td>1.0</td>\n",
       "      <td>2</td>\n",
       "      <td>0</td>\n",
       "      <td>95</td>\n",
       "      <td>-50000</td>\n",
       "    </tr>\n",
       "    <tr>\n",
       "      <th>3</th>\n",
       "      <td>9</td>\n",
       "      <td>1.0</td>\n",
       "      <td>0</td>\n",
       "      <td>0</td>\n",
       "      <td>1.0</td>\n",
       "      <td>0</td>\n",
       "      <td>1.0</td>\n",
       "      <td>1.0</td>\n",
       "      <td>1.0</td>\n",
       "      <td>1.0</td>\n",
       "      <td>...</td>\n",
       "      <td>1.0</td>\n",
       "      <td>1.0</td>\n",
       "      <td>1.0</td>\n",
       "      <td>1.0</td>\n",
       "      <td>0</td>\n",
       "      <td>1.0</td>\n",
       "      <td>0</td>\n",
       "      <td>0</td>\n",
       "      <td>94</td>\n",
       "      <td>-50000</td>\n",
       "    </tr>\n",
       "    <tr>\n",
       "      <th>4</th>\n",
       "      <td>10</td>\n",
       "      <td>1.0</td>\n",
       "      <td>0</td>\n",
       "      <td>0</td>\n",
       "      <td>1.0</td>\n",
       "      <td>0</td>\n",
       "      <td>1.0</td>\n",
       "      <td>1.0</td>\n",
       "      <td>1.0</td>\n",
       "      <td>1.0</td>\n",
       "      <td>...</td>\n",
       "      <td>1.0</td>\n",
       "      <td>1.0</td>\n",
       "      <td>1.0</td>\n",
       "      <td>1.0</td>\n",
       "      <td>0</td>\n",
       "      <td>1.0</td>\n",
       "      <td>0</td>\n",
       "      <td>0</td>\n",
       "      <td>94</td>\n",
       "      <td>-50000</td>\n",
       "    </tr>\n",
       "    <tr>\n",
       "      <th>...</th>\n",
       "      <td>...</td>\n",
       "      <td>...</td>\n",
       "      <td>...</td>\n",
       "      <td>...</td>\n",
       "      <td>...</td>\n",
       "      <td>...</td>\n",
       "      <td>...</td>\n",
       "      <td>...</td>\n",
       "      <td>...</td>\n",
       "      <td>...</td>\n",
       "      <td>...</td>\n",
       "      <td>...</td>\n",
       "      <td>...</td>\n",
       "      <td>...</td>\n",
       "      <td>...</td>\n",
       "      <td>...</td>\n",
       "      <td>...</td>\n",
       "      <td>...</td>\n",
       "      <td>...</td>\n",
       "      <td>...</td>\n",
       "      <td>...</td>\n",
       "    </tr>\n",
       "    <tr>\n",
       "      <th>199518</th>\n",
       "      <td>87</td>\n",
       "      <td>1.0</td>\n",
       "      <td>0</td>\n",
       "      <td>0</td>\n",
       "      <td>1.0</td>\n",
       "      <td>0</td>\n",
       "      <td>1.0</td>\n",
       "      <td>1.0</td>\n",
       "      <td>1.0</td>\n",
       "      <td>1.0</td>\n",
       "      <td>...</td>\n",
       "      <td>1.0</td>\n",
       "      <td>1.0</td>\n",
       "      <td>1.0</td>\n",
       "      <td>1.0</td>\n",
       "      <td>0</td>\n",
       "      <td>1.0</td>\n",
       "      <td>2</td>\n",
       "      <td>0</td>\n",
       "      <td>95</td>\n",
       "      <td>-50000</td>\n",
       "    </tr>\n",
       "    <tr>\n",
       "      <th>199519</th>\n",
       "      <td>65</td>\n",
       "      <td>1.0</td>\n",
       "      <td>37</td>\n",
       "      <td>2</td>\n",
       "      <td>1.0</td>\n",
       "      <td>0</td>\n",
       "      <td>1.0</td>\n",
       "      <td>1.0</td>\n",
       "      <td>1.0</td>\n",
       "      <td>1.0</td>\n",
       "      <td>...</td>\n",
       "      <td>1.0</td>\n",
       "      <td>1.0</td>\n",
       "      <td>1.0</td>\n",
       "      <td>1.0</td>\n",
       "      <td>0</td>\n",
       "      <td>1.0</td>\n",
       "      <td>2</td>\n",
       "      <td>52</td>\n",
       "      <td>94</td>\n",
       "      <td>-50000</td>\n",
       "    </tr>\n",
       "    <tr>\n",
       "      <th>199520</th>\n",
       "      <td>47</td>\n",
       "      <td>1.0</td>\n",
       "      <td>0</td>\n",
       "      <td>0</td>\n",
       "      <td>1.0</td>\n",
       "      <td>0</td>\n",
       "      <td>1.0</td>\n",
       "      <td>1.0</td>\n",
       "      <td>1.0</td>\n",
       "      <td>1.0</td>\n",
       "      <td>...</td>\n",
       "      <td>1.0</td>\n",
       "      <td>1.0</td>\n",
       "      <td>1.0</td>\n",
       "      <td>1.0</td>\n",
       "      <td>0</td>\n",
       "      <td>1.0</td>\n",
       "      <td>2</td>\n",
       "      <td>52</td>\n",
       "      <td>95</td>\n",
       "      <td>-50000</td>\n",
       "    </tr>\n",
       "    <tr>\n",
       "      <th>199521</th>\n",
       "      <td>16</td>\n",
       "      <td>1.0</td>\n",
       "      <td>0</td>\n",
       "      <td>0</td>\n",
       "      <td>1.0</td>\n",
       "      <td>0</td>\n",
       "      <td>1.0</td>\n",
       "      <td>1.0</td>\n",
       "      <td>1.0</td>\n",
       "      <td>1.0</td>\n",
       "      <td>...</td>\n",
       "      <td>1.0</td>\n",
       "      <td>1.0</td>\n",
       "      <td>1.0</td>\n",
       "      <td>1.0</td>\n",
       "      <td>0</td>\n",
       "      <td>1.0</td>\n",
       "      <td>2</td>\n",
       "      <td>0</td>\n",
       "      <td>95</td>\n",
       "      <td>-50000</td>\n",
       "    </tr>\n",
       "    <tr>\n",
       "      <th>199522</th>\n",
       "      <td>32</td>\n",
       "      <td>1.0</td>\n",
       "      <td>42</td>\n",
       "      <td>30</td>\n",
       "      <td>1.0</td>\n",
       "      <td>0</td>\n",
       "      <td>1.0</td>\n",
       "      <td>1.0</td>\n",
       "      <td>1.0</td>\n",
       "      <td>1.0</td>\n",
       "      <td>...</td>\n",
       "      <td>1.0</td>\n",
       "      <td>1.0</td>\n",
       "      <td>1.0</td>\n",
       "      <td>1.0</td>\n",
       "      <td>0</td>\n",
       "      <td>1.0</td>\n",
       "      <td>2</td>\n",
       "      <td>52</td>\n",
       "      <td>94</td>\n",
       "      <td>-50000</td>\n",
       "    </tr>\n",
       "  </tbody>\n",
       "</table>\n",
       "<p>199523 rows × 41 columns</p>\n",
       "</div>"
      ],
      "text/plain": [
       "        age  class_of_worker  industry_code  occupation_code  education  \\\n",
       "0        73              1.0              0                0        1.0   \n",
       "1        58              1.0              4               34        1.0   \n",
       "2        18              1.0              0                0        1.0   \n",
       "3         9              1.0              0                0        1.0   \n",
       "4        10              1.0              0                0        1.0   \n",
       "...     ...              ...            ...              ...        ...   \n",
       "199518   87              1.0              0                0        1.0   \n",
       "199519   65              1.0             37                2        1.0   \n",
       "199520   47              1.0              0                0        1.0   \n",
       "199521   16              1.0              0                0        1.0   \n",
       "199522   32              1.0             42               30        1.0   \n",
       "\n",
       "        wage_per_hour  enrolled_in_edu_inst_lastwk  marital_status  \\\n",
       "0                   0                          1.0             1.0   \n",
       "1                   0                          1.0             1.0   \n",
       "2                   0                          1.0             1.0   \n",
       "3                   0                          1.0             1.0   \n",
       "4                   0                          1.0             1.0   \n",
       "...               ...                          ...             ...   \n",
       "199518              0                          1.0             1.0   \n",
       "199519              0                          1.0             1.0   \n",
       "199520              0                          1.0             1.0   \n",
       "199521              0                          1.0             1.0   \n",
       "199522              0                          1.0             1.0   \n",
       "\n",
       "        major_industry_code  major_occupation_code  ...  country_father  \\\n",
       "0                       1.0                    1.0  ...             1.0   \n",
       "1                       1.0                    1.0  ...             1.0   \n",
       "2                       1.0                    1.0  ...             1.0   \n",
       "3                       1.0                    1.0  ...             1.0   \n",
       "4                       1.0                    1.0  ...             1.0   \n",
       "...                     ...                    ...  ...             ...   \n",
       "199518                  1.0                    1.0  ...             1.0   \n",
       "199519                  1.0                    1.0  ...             1.0   \n",
       "199520                  1.0                    1.0  ...             1.0   \n",
       "199521                  1.0                    1.0  ...             1.0   \n",
       "199522                  1.0                    1.0  ...             1.0   \n",
       "\n",
       "        country_mother  country_self  citizenship  business_or_self_employed  \\\n",
       "0                  1.0           1.0          1.0                          0   \n",
       "1                  1.0           1.0          1.0                          0   \n",
       "2                  1.0           1.0          1.0                          0   \n",
       "3                  1.0           1.0          1.0                          0   \n",
       "4                  1.0           1.0          1.0                          0   \n",
       "...                ...           ...          ...                        ...   \n",
       "199518             1.0           1.0          1.0                          0   \n",
       "199519             1.0           1.0          1.0                          0   \n",
       "199520             1.0           1.0          1.0                          0   \n",
       "199521             1.0           1.0          1.0                          0   \n",
       "199522             1.0           1.0          1.0                          0   \n",
       "\n",
       "        fill_questionnaire_veteran_admin  veterans_benefits  \\\n",
       "0                                    1.0                  2   \n",
       "1                                    1.0                  2   \n",
       "2                                    1.0                  2   \n",
       "3                                    1.0                  0   \n",
       "4                                    1.0                  0   \n",
       "...                                  ...                ...   \n",
       "199518                               1.0                  2   \n",
       "199519                               1.0                  2   \n",
       "199520                               1.0                  2   \n",
       "199521                               1.0                  2   \n",
       "199522                               1.0                  2   \n",
       "\n",
       "        weeks_worked_in_year  year  income_level  \n",
       "0                          0    95        -50000  \n",
       "1                         52    94        -50000  \n",
       "2                          0    95        -50000  \n",
       "3                          0    94        -50000  \n",
       "4                          0    94        -50000  \n",
       "...                      ...   ...           ...  \n",
       "199518                     0    95        -50000  \n",
       "199519                    52    94        -50000  \n",
       "199520                    52    95        -50000  \n",
       "199521                     0    95        -50000  \n",
       "199522                    52    94        -50000  \n",
       "\n",
       "[199523 rows x 41 columns]"
      ]
     },
     "execution_count": 8,
     "metadata": {},
     "output_type": "execute_result"
    }
   ],
   "source": [
    "file"
   ]
  },
  {
   "cell_type": "code",
   "execution_count": 9,
   "metadata": {},
   "outputs": [
    {
     "name": "stdout",
     "output_type": "stream",
     "text": [
      "<class 'pandas.core.frame.DataFrame'>\n",
      "RangeIndex: 199523 entries, 0 to 199522\n",
      "Data columns (total 41 columns):\n",
      " #   Column                            Non-Null Count   Dtype  \n",
      "---  ------                            --------------   -----  \n",
      " 0   age                               199523 non-null  int64  \n",
      " 1   class_of_worker                   199523 non-null  float64\n",
      " 2   industry_code                     199523 non-null  int64  \n",
      " 3   occupation_code                   199523 non-null  int64  \n",
      " 4   education                         199523 non-null  float64\n",
      " 5   wage_per_hour                     199523 non-null  int64  \n",
      " 6   enrolled_in_edu_inst_lastwk       199523 non-null  float64\n",
      " 7   marital_status                    199523 non-null  float64\n",
      " 8   major_industry_code               199523 non-null  float64\n",
      " 9   major_occupation_code             199523 non-null  float64\n",
      " 10  race                              199523 non-null  float64\n",
      " 11  hispanic_origin                   199523 non-null  float64\n",
      " 12  sex                               199523 non-null  float64\n",
      " 13  member_of_labor_union             199523 non-null  float64\n",
      " 14  reason_for_unemployment           199523 non-null  float64\n",
      " 15  full_parttime_employment_stat     199523 non-null  float64\n",
      " 16  capital_gains                     199523 non-null  int64  \n",
      " 17  capital_losses                    199523 non-null  int64  \n",
      " 18  dividend_from_Stocks              199523 non-null  int64  \n",
      " 19  tax_filer_status                  199523 non-null  float64\n",
      " 20  region_of_previous_residence      199523 non-null  float64\n",
      " 21  state_of_previous_residence       199523 non-null  float64\n",
      " 22  d_household_family_stat           199523 non-null  float64\n",
      " 23  d_household_summary               199523 non-null  float64\n",
      " 24  migration_msa                     199523 non-null  float64\n",
      " 25  migration_reg                     199523 non-null  float64\n",
      " 26  migration_within_reg              199523 non-null  float64\n",
      " 27  live_1_year_ago                   199523 non-null  float64\n",
      " 28  migration_sunbelt                 199523 non-null  float64\n",
      " 29  num_person_Worked_employer        199523 non-null  int64  \n",
      " 30  family_members_under_18           199523 non-null  float64\n",
      " 31  country_father                    199523 non-null  float64\n",
      " 32  country_mother                    199523 non-null  float64\n",
      " 33  country_self                      199523 non-null  float64\n",
      " 34  citizenship                       199523 non-null  float64\n",
      " 35  business_or_self_employed         199523 non-null  int64  \n",
      " 36  fill_questionnaire_veteran_admin  199523 non-null  float64\n",
      " 37  veterans_benefits                 199523 non-null  int64  \n",
      " 38  weeks_worked_in_year              199523 non-null  int64  \n",
      " 39  year                              199523 non-null  int64  \n",
      " 40  income_level                      199523 non-null  int64  \n",
      "dtypes: float64(28), int64(13)\n",
      "memory usage: 62.4 MB\n"
     ]
    }
   ],
   "source": [
    "#check again if dataframe contains nan or string values\n",
    "file.info()"
   ]
  },
  {
   "cell_type": "code",
   "execution_count": 10,
   "metadata": {},
   "outputs": [],
   "source": [
    "#now analysis are done in previous file and now its come feature selection I used OLS method previous but here i use Lasso \n",
    "#Becuase Now cleaning process become simple and small\n",
    "from sklearn.preprocessing import StandardScaler\n",
    "from sklearn.feature_selection import SelectFromModel\n",
    "from sklearn.linear_model import Lasso,LogisticRegression\n",
    "from sklearn.model_selection import train_test_split"
   ]
  },
  {
   "cell_type": "code",
   "execution_count": 11,
   "metadata": {},
   "outputs": [
    {
     "data": {
      "text/plain": [
       "0        -50000\n",
       "1        -50000\n",
       "2        -50000\n",
       "3        -50000\n",
       "4        -50000\n",
       "          ...  \n",
       "199518   -50000\n",
       "199519   -50000\n",
       "199520   -50000\n",
       "199521   -50000\n",
       "199522   -50000\n",
       "Name: income_level, Length: 199523, dtype: int64"
      ]
     },
     "execution_count": 11,
     "metadata": {},
     "output_type": "execute_result"
    }
   ],
   "source": [
    "X=file.loc[:]\n",
    "X=X.drop(labels=['income_level'],axis=1)\n",
    "Y=file.iloc[:,-1]\n",
    "file['income_level']=pd.get_dummies(file['income_level'])\n",
    "Y"
   ]
  },
  {
   "cell_type": "code",
   "execution_count": 12,
   "metadata": {},
   "outputs": [],
   "source": [
    "x_train,x_test,y_train,y_test=train_test_split(X,Y,test_size=0.33,random_state=42)\n"
   ]
  },
  {
   "cell_type": "code",
   "execution_count": 13,
   "metadata": {},
   "outputs": [
    {
     "data": {
      "text/plain": [
       "StandardScaler(copy=True, with_mean=True, with_std=True)"
      ]
     },
     "execution_count": 13,
     "metadata": {},
     "output_type": "execute_result"
    }
   ],
   "source": [
    "#scaling data \n",
    "scaling=StandardScaler()\n",
    "scaling.fit(file)"
   ]
  },
  {
   "cell_type": "code",
   "execution_count": 14,
   "metadata": {},
   "outputs": [],
   "source": [
    "#Lasso mode to find which feature is better\n",
    "lasso=SelectFromModel(estimator=LogisticRegression (C=1,penalty='l2'))"
   ]
  },
  {
   "cell_type": "code",
   "execution_count": 15,
   "metadata": {},
   "outputs": [
    {
     "name": "stderr",
     "output_type": "stream",
     "text": [
      "C:\\Users\\sj\\anaconda\\lib\\site-packages\\sklearn\\linear_model\\_logistic.py:940: ConvergenceWarning: lbfgs failed to converge (status=1):\n",
      "STOP: TOTAL NO. of ITERATIONS REACHED LIMIT.\n",
      "\n",
      "Increase the number of iterations (max_iter) or scale the data as shown in:\n",
      "    https://scikit-learn.org/stable/modules/preprocessing.html\n",
      "Please also refer to the documentation for alternative solver options:\n",
      "    https://scikit-learn.org/stable/modules/linear_model.html#logistic-regression\n",
      "  extra_warning_msg=_LOGISTIC_SOLVER_CONVERGENCE_MSG)\n"
     ]
    },
    {
     "data": {
      "text/plain": [
       "array([[26., 23.,  6., 52., 95.],\n",
       "       [31., 26.,  6., 52., 94.],\n",
       "       [30., 33.,  5., 52., 94.],\n",
       "       ...,\n",
       "       [10.,  0.,  0.,  0., 95.],\n",
       "       [ 7.,  0.,  0.,  0., 95.],\n",
       "       [76.,  0.,  0.,  0., 95.]])"
      ]
     },
     "execution_count": 15,
     "metadata": {},
     "output_type": "execute_result"
    }
   ],
   "source": [
    "model.fit_transform(x_train,y=y_train)"
   ]
  },
  {
   "cell_type": "code",
   "execution_count": 25,
   "metadata": {},
   "outputs": [
    {
     "data": {
      "text/plain": [
       "array([ True, False, False,  True, False, False, False, False, False,\n",
       "       False, False, False, False, False, False, False, False, False,\n",
       "       False, False, False, False, False, False, False, False, False,\n",
       "       False, False,  True, False, False, False, False, False, False,\n",
       "       False, False,  True,  True])"
      ]
     },
     "execution_count": 25,
     "metadata": {},
     "output_type": "execute_result"
    }
   ],
   "source": [
    "#here i get 5 features which are best. \n",
    "model.get_support()"
   ]
  },
  {
   "cell_type": "code",
   "execution_count": 29,
   "metadata": {},
   "outputs": [],
   "source": [
    "X_train=x_train.iloc[:,[0,3,29,38,39]]\n",
    "X_test=x_test.iloc[:,[0,3,29,38,39]]"
   ]
  },
  {
   "cell_type": "code",
   "execution_count": 31,
   "metadata": {},
   "outputs": [
    {
     "data": {
      "text/plain": [
       "(65843, 5)"
      ]
     },
     "execution_count": 31,
     "metadata": {},
     "output_type": "execute_result"
    }
   ],
   "source": [
    "X_test.shape"
   ]
  },
  {
   "cell_type": "code",
   "execution_count": 32,
   "metadata": {},
   "outputs": [
    {
     "data": {
      "text/plain": [
       "(133680, 5)"
      ]
     },
     "execution_count": 32,
     "metadata": {},
     "output_type": "execute_result"
    }
   ],
   "source": [
    "X_train.shape"
   ]
  },
  {
   "cell_type": "code",
   "execution_count": 33,
   "metadata": {},
   "outputs": [
    {
     "data": {
      "text/plain": [
       "0.9393405525264644"
      ]
     },
     "execution_count": 33,
     "metadata": {},
     "output_type": "execute_result"
    }
   ],
   "source": [
    "#use logistic regression for classification\n",
    "from sklearn.linear_model import LogisticRegressionCV\n",
    "lr=LogisticRegressionCV()\n",
    "lr.fit(X_train,y_train)\n",
    "lr.score(X_test,y_test)"
   ]
  },
  {
   "cell_type": "code",
   "execution_count": 71,
   "metadata": {},
   "outputs": [],
   "source": [
    "from sklearn.metrics import accuracy_score,confusion_matrix,RocCurveDisplay,roc_auc_score"
   ]
  },
  {
   "cell_type": "code",
   "execution_count": 39,
   "metadata": {},
   "outputs": [
    {
     "data": {
      "text/plain": [
       "0.9393405525264644"
      ]
     },
     "execution_count": 39,
     "metadata": {},
     "output_type": "execute_result"
    }
   ],
   "source": [
    "y_true=lr.predict(X_test)\n",
    "accuracy_score(y_true,y_test)"
   ]
  },
  {
   "cell_type": "code",
   "execution_count": 73,
   "metadata": {},
   "outputs": [
    {
     "data": {
      "text/plain": [
       "0.6751102968668213"
      ]
     },
     "execution_count": 73,
     "metadata": {},
     "output_type": "execute_result"
    }
   ],
   "source": [
    "roc=roc_auc_score(y_true,y_test)\n",
    "roc"
   ]
  },
  {
   "cell_type": "code",
   "execution_count": 102,
   "metadata": {},
   "outputs": [
    {
     "data": {
      "text/plain": [
       "array([[61722,   184],\n",
       "       [ 3810,   127]], dtype=int64)"
      ]
     },
     "execution_count": 102,
     "metadata": {},
     "output_type": "execute_result"
    }
   ],
   "source": [
    "#better confusion metrix\n",
    "a=confusion_matrix(y_test,y_true)\n",
    "a0=a[0]\n",
    "a1=a[1]\n",
    "a"
   ]
  },
  {
   "cell_type": "code",
   "execution_count": 100,
   "metadata": {},
   "outputs": [],
   "source": [
    "Roc=RocCurveDisplay(a0,a1,roc,LogisticRegression)"
   ]
  },
  {
   "cell_type": "code",
   "execution_count": 101,
   "metadata": {},
   "outputs": [
    {
     "data": {
      "text/plain": [
       "<sklearn.metrics._plot.roc_curve.RocCurveDisplay at 0x161333fd148>"
      ]
     },
     "execution_count": 101,
     "metadata": {},
     "output_type": "execute_result"
    },
    {
     "data": {
      "image/png": "[encoded data removed]",
      "text/plain": [
       "<Figure size 432x288 with 1 Axes>"
      ]
     },
     "metadata": {
      "needs_background": "light"
     },
     "output_type": "display_data"
    }
   ],
   "source": [
    "Roc.plot()"
   ]
  },
  {
   "cell_type": "code",
   "execution_count": null,
   "metadata": {},
   "outputs": [],
   "source": []
  }
 ],
 "metadata": {
  "kernelspec": {
   "display_name": "Python 3",
   "language": "python",
   "name": "python3"
  },
  "language_info": {
   "codemirror_mode": {
    "name": "ipython",
    "version": 3
   },
   "file_extension": ".py",
   "mimetype": "text/x-python",
   "name": "python",
   "nbconvert_exporter": "python",
   "pygments_lexer": "ipython3",
   "version": "3.7.6"
  }
 },
 "nbformat": 4,
 "nbformat_minor": 4
}
